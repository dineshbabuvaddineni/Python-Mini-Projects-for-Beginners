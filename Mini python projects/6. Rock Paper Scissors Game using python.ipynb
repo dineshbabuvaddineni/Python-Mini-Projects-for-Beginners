{
 "cells": [
  {
   "cell_type": "code",
   "execution_count": 2,
   "id": "a4efc1af",
   "metadata": {},
   "outputs": [
    {
     "name": "stdout",
     "output_type": "stream",
     "text": [
      "Select Rock, Paper, or Scissor :paper\n",
      "player 2 selected: rock\n",
      "player 1 won\n"
     ]
    }
   ],
   "source": [
    "import random\n",
    "player1=input(\"Select Rock, Paper, or Scissor :\").lower()\n",
    "player2=random.choice([\"Rock\",\"paper\",\"Scissor\"]).lower()\n",
    "print(\"player 2 selected:\",player2)\n",
    "\n",
    "if player1==\"rock\" and player2==\"paper\":\n",
    "    print(\"player 2 won\")\n",
    "elif player1==\"paper\" and player2==\"scissor\":\n",
    "    print(\"player 2 won\")\n",
    "elif player1==\"scissor\" and player2==\"rock\":\n",
    "    print(\"Player 2 won\")\n",
    "elif player1==player2:\n",
    "    print(\"Tie\")\n",
    "else:\n",
    "    print(\"player 1 won\")"
   ]
  }
 ],
 "metadata": {
  "kernelspec": {
   "display_name": "Python 3",
   "language": "python",
   "name": "python3"
  },
  "language_info": {
   "codemirror_mode": {
    "name": "ipython",
    "version": 3
   },
   "file_extension": ".py",
   "mimetype": "text/x-python",
   "name": "python",
   "nbconvert_exporter": "python",
   "pygments_lexer": "ipython3",
   "version": "3.8.8"
  }
 },
 "nbformat": 4,
 "nbformat_minor": 5
}
