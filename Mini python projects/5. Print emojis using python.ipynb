{
 "cells": [
  {
   "cell_type": "code",
   "execution_count": 2,
   "id": "182a8080",
   "metadata": {},
   "outputs": [],
   "source": [
    "import emoji"
   ]
  },
  {
   "cell_type": "code",
   "execution_count": 11,
   "id": "5f5a951e",
   "metadata": {},
   "outputs": [
    {
     "name": "stdout",
     "output_type": "stream",
     "text": [
      "I love farming💚\n",
      "Red heart❤️\n"
     ]
    }
   ],
   "source": [
    "print(emoji.emojize(\"I love farming:green_heart:\"))\n",
    "print(emoji.emojize(\"Red heart:red_heart:\"))"
   ]
  },
  {
   "cell_type": "code",
   "execution_count": 13,
   "id": "bad9d827",
   "metadata": {},
   "outputs": [
    {
     "name": "stdout",
     "output_type": "stream",
     "text": [
      "Red heart🚜\n"
     ]
    }
   ],
   "source": [
    "print(emoji.emojize(\"Red heart:tractor:\"))"
   ]
  },
  {
   "cell_type": "code",
   "execution_count": 23,
   "id": "3ca5c1ac",
   "metadata": {},
   "outputs": [
    {
     "name": "stdout",
     "output_type": "stream",
     "text": [
      "bus--> 🚌\n"
     ]
    }
   ],
   "source": [
    "print(emoji.emojize(\"bus--> :bus:\"))"
   ]
  },
  {
   "cell_type": "code",
   "execution_count": 25,
   "id": "d16e432f",
   "metadata": {},
   "outputs": [
    {
     "name": "stdout",
     "output_type": "stream",
     "text": [
      "😀\n"
     ]
    }
   ],
   "source": [
    "print(emoji.emojize(\":grinning_face:\"))"
   ]
  },
  {
   "cell_type": "code",
   "execution_count": 26,
   "id": "ca4cce1f",
   "metadata": {},
   "outputs": [
    {
     "name": "stdout",
     "output_type": "stream",
     "text": [
      "🙃\n"
     ]
    }
   ],
   "source": [
    "print(emoji.emojize(\":upside-down_face:\"))"
   ]
  },
  {
   "cell_type": "code",
   "execution_count": 28,
   "id": "0fbdf3e2",
   "metadata": {},
   "outputs": [
    {
     "name": "stdout",
     "output_type": "stream",
     "text": [
      "🤫\n"
     ]
    }
   ],
   "source": [
    "print(emoji.emojize(\":shushing_face:\"))"
   ]
  },
  {
   "cell_type": "code",
   "execution_count": 29,
   "id": "d2b39ccb",
   "metadata": {},
   "outputs": [
    {
     "name": "stdout",
     "output_type": "stream",
     "text": [
      "🤪\n"
     ]
    }
   ],
   "source": [
    "print(emoji.emojize(\":zany_face:\"))"
   ]
  }
 ],
 "metadata": {
  "kernelspec": {
   "display_name": "Python 3",
   "language": "python",
   "name": "python3"
  },
  "language_info": {
   "codemirror_mode": {
    "name": "ipython",
    "version": 3
   },
   "file_extension": ".py",
   "mimetype": "text/x-python",
   "name": "python",
   "nbconvert_exporter": "python",
   "pygments_lexer": "ipython3",
   "version": "3.8.8"
  }
 },
 "nbformat": 4,
 "nbformat_minor": 5
}
