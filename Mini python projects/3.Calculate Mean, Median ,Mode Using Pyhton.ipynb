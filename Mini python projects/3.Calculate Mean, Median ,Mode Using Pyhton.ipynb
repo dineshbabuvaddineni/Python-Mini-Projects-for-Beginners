{
 "cells": [
  {
   "cell_type": "markdown",
   "id": "c4d1f49a",
   "metadata": {},
   "source": [
    "# Calculate Mean Median Mode using python"
   ]
  },
  {
   "cell_type": "markdown",
   "id": "9b4a1f02",
   "metadata": {},
   "source": [
    "# Mean"
   ]
  },
  {
   "cell_type": "code",
   "execution_count": 2,
   "id": "f1662df3",
   "metadata": {},
   "outputs": [
    {
     "name": "stdout",
     "output_type": "stream",
     "text": [
      "96.5\n"
     ]
    }
   ],
   "source": [
    "# Claculating the mean score\n",
    "Marks=[95, 96, 97, 93, 94, 98, 99, 100]\n",
    "mean=sum(Marks)/len(Marks)\n",
    "print(Mean)"
   ]
  },
  {
   "cell_type": "markdown",
   "id": "1d59980f",
   "metadata": {},
   "source": [
    "# Median"
   ]
  },
  {
   "cell_type": "code",
   "execution_count": 30,
   "id": "d8021b57",
   "metadata": {},
   "outputs": [
    {
     "name": "stdout",
     "output_type": "stream",
     "text": [
      "97\n"
     ]
    }
   ],
   "source": [
    "# calculating the meadian of the score\n",
    "Marks=[95, 96, 97, 93, 94, 98, 99, 100,101]\n",
    "Marks.sort()\n",
    "if len(Marks )%2==0:\n",
    "    m1=Marks[len(Marks)//2]\n",
    "    m2=Marks[len(Marks)//2-1]\n",
    "    meadian=(m1+m2)/2\n",
    "else:\n",
    "    meadian=Marks[len(Marks)//2]\n",
    "print(meadian)"
   ]
  },
  {
   "cell_type": "markdown",
   "id": "2b1472b8",
   "metadata": {},
   "source": [
    "# Mode"
   ]
  },
  {
   "cell_type": "code",
   "execution_count": 33,
   "id": "5b9b9c6b",
   "metadata": {},
   "outputs": [
    {
     "name": "stdout",
     "output_type": "stream",
     "text": [
      "91\n"
     ]
    }
   ],
   "source": [
    "Marks = [91,93,92,91,92,95,94,93,95,96,98,91,96]\n",
    "frequency = {}\n",
    "for i in Marks:\n",
    "    frequency.setdefault(i, 0)\n",
    "    frequency[i]+=1\n",
    "\n",
    "frequent = max(frequency.values())\n",
    "for i, j in frequency.items():\n",
    "    if j == frequent:\n",
    "        mode = i\n",
    "print(mode)"
   ]
  }
 ],
 "metadata": {
  "kernelspec": {
   "display_name": "Python 3",
   "language": "python",
   "name": "python3"
  },
  "language_info": {
   "codemirror_mode": {
    "name": "ipython",
    "version": 3
   },
   "file_extension": ".py",
   "mimetype": "text/x-python",
   "name": "python",
   "nbconvert_exporter": "python",
   "pygments_lexer": "ipython3",
   "version": "3.8.8"
  }
 },
 "nbformat": 4,
 "nbformat_minor": 5
}
