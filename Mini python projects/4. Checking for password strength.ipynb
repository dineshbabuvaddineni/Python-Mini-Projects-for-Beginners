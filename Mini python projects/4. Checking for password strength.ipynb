{
 "cells": [
  {
   "cell_type": "raw",
   "id": "a02bcf3a",
   "metadata": {},
   "source": [
    "32. In a portal login website, you are asked to write a function get_password_strength to decide \n",
    "the strength of a password. The strength is decided based on the total score of the password, Use \n",
    "following conditions:\n",
    "1) If password has length greater than 7 then score increases by one point.\n",
    "2) If password has at least one upper case and one lower case alphabets score increases by one point.\n",
    "3) If password has at least one number and no consecutive numbers like 12 or 234 then score \n",
    "increases by one point.\n",
    "4) If password has at least one special character (any character other than numbers and alphabets) then \n",
    "score increases by one point.\n",
    "5) If password contains username, then it is invalid password.\n",
    "If the password has score of four points, three points, two points, or one point then print Very \n",
    "Strong, Strong, Moderate, or Weak respectively. If the password is invalid, then \n",
    "print PASSWORD SHOULD NOT CONTAIN USERNAME and If the score is zero, then print Use a \n",
    "different password.The arguments to the function are username and password which are \n",
    "already defined"
   ]
  },
  {
   "cell_type": "code",
   "execution_count": 3,
   "id": "83ff189f",
   "metadata": {},
   "outputs": [],
   "source": [
    " def get_password_strength(username,password):\n",
    "    c=0\n",
    "    capital='ABCDEFGHIJKLMNOPQRSTUVWXYZ'\n",
    "    c_flag=False\n",
    "    small='abcdefghijklmnopqrstuvwxyz'\n",
    "    s_flag=False\n",
    "    num='0123456789'\n",
    "    n_flag=False\n",
    "    nc_flag=True\n",
    "    if username in password:\n",
    "        print(\"PASSWORD SHOULD NOT CONTAIN USERNAME\")\n",
    "        return\n",
    "    if len(password)>7:\n",
    "        c=c+1\n",
    "    for i in range(len(password)):\n",
    "        if password[i] in small:\n",
    "            s_flag=True\n",
    "        elif password[i] in capital:\n",
    "            c_flag=True\n",
    "        elif password[i] in num:\n",
    "            n_flag=True\n",
    "        if n_flag:\n",
    "            if i!=(len(password)-1):\n",
    "                if num[((num.index(password[i]))+1)]==password[i+1]:\n",
    "                    nc_flag=False\n",
    "            if c_flag and s_flag:\n",
    "                c+=1\n",
    "            if n_flag and nc_flag:\n",
    "                c+=1\n",
    "            if not password.isalnum():\n",
    "                c+=1\n",
    "            if c==4:\n",
    "                print(\"Very Strong\")\n",
    "                return\n",
    "            if c==3:\n",
    "                print(\"Strong\")\n",
    "                return\n",
    "            if c==2:\n",
    "                print(\"moderate\")\n",
    "                return\n",
    "            if c==1:\n",
    "                print('week')\n",
    "                return\n",
    "            if c==0:\n",
    "                print(\"use a different password\")\n",
    "                return"
   ]
  },
  {
   "cell_type": "code",
   "execution_count": 4,
   "id": "81567a89",
   "metadata": {},
   "outputs": [
    {
     "name": "stdout",
     "output_type": "stream",
     "text": [
      "Very Strong\n"
     ]
    }
   ],
   "source": [
    "get_password_strength(\"dinesh\",\"din@B#1357\")"
   ]
  },
  {
   "cell_type": "code",
   "execution_count": 5,
   "id": "13cdc9a9",
   "metadata": {},
   "outputs": [
    {
     "name": "stdout",
     "output_type": "stream",
     "text": [
      "PASSWORD SHOULD NOT CONTAIN USERNAME\n"
     ]
    }
   ],
   "source": [
    "get_password_strength(\"dinesh\",\"dinesh@123\")"
   ]
  },
  {
   "cell_type": "code",
   "execution_count": 6,
   "id": "76c081b0",
   "metadata": {},
   "outputs": [
    {
     "name": "stdout",
     "output_type": "stream",
     "text": [
      "week\n"
     ]
    }
   ],
   "source": [
    "get_password_strength(\"dinesh\",\"di@123\")"
   ]
  },
  {
   "cell_type": "code",
   "execution_count": 7,
   "id": "b30e996f",
   "metadata": {},
   "outputs": [
    {
     "name": "stdout",
     "output_type": "stream",
     "text": [
      "Strong\n"
     ]
    }
   ],
   "source": [
    "get_password_strength(\"dinesh\",\"diDB@13\")"
   ]
  }
 ],
 "metadata": {
  "kernelspec": {
   "display_name": "Python 3",
   "language": "python",
   "name": "python3"
  },
  "language_info": {
   "codemirror_mode": {
    "name": "ipython",
    "version": 3
   },
   "file_extension": ".py",
   "mimetype": "text/x-python",
   "name": "python",
   "nbconvert_exporter": "python",
   "pygments_lexer": "ipython3",
   "version": "3.8.8"
  }
 },
 "nbformat": 4,
 "nbformat_minor": 5
}
