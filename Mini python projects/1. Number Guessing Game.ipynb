{
 "cells": [
  {
   "cell_type": "markdown",
   "id": "68c11eb7",
   "metadata": {},
   "source": [
    " 1.Number Guessing Game"
   ]
  },
  {
   "cell_type": "code",
   "execution_count": 5,
   "id": "f400902f",
   "metadata": {},
   "outputs": [
    {
     "name": "stdout",
     "output_type": "stream",
     "text": [
      "Enter a number :3\n",
      "Guessed number is low\n",
      "Enter the number again: 4\n",
      "Hey! You guessed it correctly.\n"
     ]
    }
   ],
   "source": [
    "import random\n",
    "n=random.randrange(1,10)\n",
    "guess=int(input(\"Enter a number :\"))\n",
    "while n!=guess:\n",
    "    if guess<n:\n",
    "        print(\"Guessed number is low\")\n",
    "        guess=int(input(\"Enter the number again: \"))\n",
    "    elif guess>n:\n",
    "        print(\"Guessed number is high\")\n",
    "        guess=int(input(\"Enter the number again: \"))\n",
    "    else:\n",
    "        break\n",
    "print(\"Hey! You guessed it correctly.\")"
   ]
  },
  {
   "cell_type": "code",
   "execution_count": null,
   "id": "84ed9bbb",
   "metadata": {},
   "outputs": [],
   "source": []
  }
 ],
 "metadata": {
  "kernelspec": {
   "display_name": "Python 3",
   "language": "python",
   "name": "python3"
  },
  "language_info": {
   "codemirror_mode": {
    "name": "ipython",
    "version": 3
   },
   "file_extension": ".py",
   "mimetype": "text/x-python",
   "name": "python",
   "nbconvert_exporter": "python",
   "pygments_lexer": "ipython3",
   "version": "3.8.8"
  }
 },
 "nbformat": 4,
 "nbformat_minor": 5
}
