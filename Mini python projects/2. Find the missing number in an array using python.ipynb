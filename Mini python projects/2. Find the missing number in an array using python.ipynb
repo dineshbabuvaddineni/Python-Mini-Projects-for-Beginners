{
 "cells": [
  {
   "cell_type": "markdown",
   "id": "2ddd6243",
   "metadata": {},
   "source": [
    "# 2. Find the missing number in an array using python"
   ]
  },
  {
   "cell_type": "code",
   "execution_count": 3,
   "id": "cdbaae29",
   "metadata": {},
   "outputs": [
    {
     "name": "stdout",
     "output_type": "stream",
     "text": [
      "[3, 6, 8, 10, 11]\n"
     ]
    }
   ],
   "source": [
    "def miss_num(n):\n",
    "    numbers=set(n)\n",
    "    length=len(n)\n",
    "    output=[]\n",
    "    for i in range(1,n[-1]):\n",
    "        if i not in numbers:\n",
    "            output.append(i)\n",
    "    return output\n",
    "list_of_numbers=[1,2,4,5,7,9,12,13,14,15]\n",
    "print(miss_num(list_of_numbers))\n",
    "            \n",
    "        "
   ]
  },
  {
   "cell_type": "code",
   "execution_count": null,
   "id": "dc25a037",
   "metadata": {},
   "outputs": [],
   "source": []
  }
 ],
 "metadata": {
  "kernelspec": {
   "display_name": "Python 3",
   "language": "python",
   "name": "python3"
  },
  "language_info": {
   "codemirror_mode": {
    "name": "ipython",
    "version": 3
   },
   "file_extension": ".py",
   "mimetype": "text/x-python",
   "name": "python",
   "nbconvert_exporter": "python",
   "pygments_lexer": "ipython3",
   "version": "3.8.8"
  }
 },
 "nbformat": 4,
 "nbformat_minor": 5
}
